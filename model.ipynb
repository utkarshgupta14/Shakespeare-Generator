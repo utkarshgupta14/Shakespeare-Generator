{
 "cells": [
  {
   "cell_type": "code",
   "execution_count": null,
   "metadata": {
    "colab": {
     "base_uri": "https://localhost:8080/"
    },
    "id": "tkarnFo-oYXt",
    "outputId": "7f001761-ed80-4a5b-f464-700686ff3030"
   },
   "outputs": [
    {
     "name": "stdout",
     "output_type": "stream",
     "text": [
      "CUDA is available!\n"
     ]
    }
   ],
   "source": [
    "import torch\n",
    "import torch.nn as nn\n",
    "from torch.nn import functional as F\n",
    "\n",
    "device = torch.device(\"cpu\")\n",
    "if torch.cuda.is_available():\n",
    "    print(\"CUDA is available!\")\n",
    "    device = torch.device(\"cuda\")\n",
    "else:\n",
    "    print(\"CUDA not available!\")\n",
    "\n",
    "# if torch.backends.mps.is_available():\n",
    "#     print(\"MPS is available!\")\n",
    "#     device = torch.device(\"mps\")\n",
    "# else:\n",
    "#     print(\"MPS not available!\")"
   ]
  },
  {
   "cell_type": "code",
   "execution_count": 3,
   "metadata": {
    "colab": {
     "base_uri": "https://localhost:8080/"
    },
    "id": "Pw7V9vBfoYXv",
    "outputId": "118dc4fc-c531-44d8-98c3-6ed3e5cc9359"
   },
   "outputs": [
    {
     "name": "stdout",
     "output_type": "stream",
     "text": [
      "Total text size: 1115394\n",
      "\n",
      "Text:\n",
      "First Citizen:\n",
      "Before we proceed any further, hear me speak.\n",
      "\n",
      "All:\n",
      "Speak, speak.\n",
      "\n",
      "First Citizen:\n",
      "You are all resolved rather to die than to famish?\n",
      "\n",
      "All:\n",
      "Resolved. resolved.\n",
      "\n",
      "First Citizen:\n",
      "First, you know Caius Marcius is chief enemy to the people.\n",
      "\n",
      "All:\n",
      "We know't, we know't.\n",
      "\n",
      "First Citizen:\n",
      "Let us\n"
     ]
    }
   ],
   "source": [
    "# load text file\n",
    "with open('/content/input.txt', 'r') as f:\n",
    "    text = f.read()\n",
    "\n",
    "print(f\"Total text size: {len(text)}\\n\")\n",
    "print('Text:\\n'+text[:300])"
   ]
  },
  {
   "cell_type": "code",
   "execution_count": 4,
   "metadata": {
    "id": "1FgZ6QFeoYXv"
   },
   "outputs": [],
   "source": [
    "# defining context length, batch size, and embedding dimensions\n",
    "context_len = 256\n",
    "batch_size = 64\n",
    "embedding_dim = 384"
   ]
  },
  {
   "cell_type": "code",
   "execution_count": 5,
   "metadata": {
    "colab": {
     "base_uri": "https://localhost:8080/"
    },
    "id": "ZEysMteKoYXv",
    "outputId": "067356f9-87f1-41fb-b410-66d962ebc9c9"
   },
   "outputs": [
    {
     "name": "stdout",
     "output_type": "stream",
     "text": [
      "Vocab: ['\\n', ' ', '!', '$', '&', \"'\", ',', '-', '.', '3', ':', ';', '?', 'A', 'B', 'C', 'D', 'E', 'F', 'G', 'H', 'I', 'J', 'K', 'L', 'M', 'N', 'O', 'P', 'Q', 'R', 'S', 'T', 'U', 'V', 'W', 'X', 'Y', 'Z', 'a', 'b', 'c', 'd', 'e', 'f', 'g', 'h', 'i', 'j', 'k', 'l', 'm', 'n', 'o', 'p', 'q', 'r', 's', 't', 'u', 'v', 'w', 'x', 'y', 'z']\n",
      "Vocab size: 65\n"
     ]
    }
   ],
   "source": [
    "# define character level vocabulary\n",
    "char_l = list(set(text))\n",
    "char_l.sort()\n",
    "\n",
    "vocab_size = len(char_l)\n",
    "print(f\"Vocab: {char_l}\")\n",
    "print(f\"Vocab size: {vocab_size}\")"
   ]
  },
  {
   "cell_type": "code",
   "execution_count": 6,
   "metadata": {
    "colab": {
     "base_uri": "https://localhost:8080/"
    },
    "id": "QMFxxxAMoYXv",
    "outputId": "3f112e29-5ca6-4bca-e6e5-b331382d308d"
   },
   "outputs": [
    {
     "name": "stdout",
     "output_type": "stream",
     "text": [
      "Index corresponding to \"!\" : 2\n",
      "Character corresponding to index 2 : !\n"
     ]
    }
   ],
   "source": [
    "# ch to index and index to ch maps\n",
    "stoi = {ch:i for i,ch in enumerate(char_l)}\n",
    "itos = {i:ch for i,ch in enumerate(char_l)}\n",
    "print('Index corresponding to \"!\" : ' + str(stoi['!']))\n",
    "print('Character corresponding to index 2 : ' + itos[2])"
   ]
  },
  {
   "cell_type": "code",
   "execution_count": 7,
   "metadata": {
    "colab": {
     "base_uri": "https://localhost:8080/"
    },
    "id": "MTjnWMTjoYXw",
    "outputId": "94a70a17-836c-4a89-8d47-6105997a171b"
   },
   "outputs": [
    {
     "name": "stdout",
     "output_type": "stream",
     "text": [
      "[46, 43, 50, 50, 53]\n",
      "hello\n"
     ]
    }
   ],
   "source": [
    "# encoder and decoder functions\n",
    "encode = lambda s: [stoi[ch] for ch in s]\n",
    "decode = lambda l: ''.join([itos[i] for i in l])\n",
    "\n",
    "print(encode(\"hello\"))\n",
    "print(decode(encode('hello')))"
   ]
  },
  {
   "cell_type": "code",
   "execution_count": 8,
   "metadata": {
    "colab": {
     "base_uri": "https://localhost:8080/"
    },
    "id": "LQNdVb-xoYXw",
    "outputId": "ab88a6e1-a692-4bd2-8c61-ea2b398742a8"
   },
   "outputs": [
    {
     "name": "stdout",
     "output_type": "stream",
     "text": [
      "Train size: 1003854, Val size: 111540\n"
     ]
    }
   ],
   "source": [
    "# training and validations sets\n",
    "data = torch.tensor(encode(text), dtype=torch.long)\n",
    "n = int(len(data)*0.9)\n",
    "\n",
    "train_data = data[:n]\n",
    "val_data = data[n:]\n",
    "\n",
    "print(f\"Train size: {len(train_data)}, Val size: {len(val_data)}\")"
   ]
  },
  {
   "cell_type": "code",
   "execution_count": 9,
   "metadata": {
    "id": "ivJU_P1roYXw"
   },
   "outputs": [],
   "source": [
    "# data loader\n",
    "def get_batch(split):\n",
    "    data = train_data if split == 'train' else val_data\n",
    "    ix = torch.randint(0, len(data)-context_len, (batch_size,))\n",
    "    x = torch.stack([data[i:i+context_len] for i in ix])\n",
    "    y = torch.stack([data[i+1:i+1+context_len] for i in ix])\n",
    "    x = x.to(device)\n",
    "    y = y.to(device)\n",
    "\n",
    "    return x, y"
   ]
  },
  {
   "cell_type": "code",
   "execution_count": 10,
   "metadata": {
    "id": "Xj8YclsFoYXw"
   },
   "outputs": [],
   "source": [
    "# layer hyperparameters\n",
    "dropout_r = 0.2\n",
    "num_heads = 6\n",
    "num_layers = 6"
   ]
  },
  {
   "cell_type": "code",
   "execution_count": 11,
   "metadata": {
    "id": "fWemGkOKoYXw"
   },
   "outputs": [],
   "source": [
    "# self attention head\n",
    "class SelfAttentionHead(nn.Module):\n",
    "    def __init__(self, head_size):\n",
    "        super().__init__()\n",
    "        self.key = nn.Linear(embedding_dim, head_size, bias=False)\n",
    "        self.query = nn.Linear(embedding_dim, head_size, bias=False)\n",
    "        self.value = nn.Linear(embedding_dim, head_size, bias=False)\n",
    "\n",
    "        self.register_buffer('tril', torch.tril(torch.ones(context_len, context_len)))\n",
    "        self.dropout = nn.Dropout(dropout_r)\n",
    "\n",
    "    def forward(self, x):\n",
    "        B,T,C = x.shape # Batch, time_step, channels (embedding)\n",
    "        k = self.key(x) # B,T,hs\n",
    "        q = self.query(x) # B,T,hs\n",
    "\n",
    "        w = q @ k.transpose(-2,-1) * k.shape[-1]**(-0.5) # (B,T,hs) @ (B,hs,T) -> (B,T,T)\n",
    "        w = w.masked_fill(self.tril[:T, :T] == 0, float('-inf')) # B,T,T (replace upper triangular values with -inf before softmax)\n",
    "        w = torch.softmax(w, dim=-1) # B,T,T\n",
    "        w = self.dropout(w)\n",
    "\n",
    "        v = self.value(x) # B,T,hs\n",
    "        out = w @ v # (B,T,T) @ (B,T,hs) -> (B,T,hs)\n",
    "        return out"
   ]
  },
  {
   "cell_type": "code",
   "execution_count": 12,
   "metadata": {
    "id": "jZ65PmOQoYXw"
   },
   "outputs": [],
   "source": [
    "# multihead attention\n",
    "class MultiHeadAttention(nn.Module):\n",
    "    def __init__(self, num_heads, head_size):\n",
    "        super().__init__()\n",
    "        self.heads = nn.ModuleList([SelfAttentionHead(head_size) for _ in range(num_heads)])\n",
    "        self.proj = nn.Linear(head_size * num_heads, embedding_dim)\n",
    "        self.dropout = nn.Dropout(dropout_r)\n",
    "\n",
    "    def forward(self, x):\n",
    "        out = torch.cat([h(x) for h in self.heads], dim=-1)\n",
    "        out = self.proj(out)\n",
    "        out = self.dropout(out)\n",
    "        return out"
   ]
  },
  {
   "cell_type": "code",
   "execution_count": 13,
   "metadata": {
    "id": "wpJF5qjHoYXw"
   },
   "outputs": [],
   "source": [
    "# one block of transformer network\n",
    "class Block(nn.Module):\n",
    "    def __init__(self, embedding_dim, num_heads):\n",
    "        super().__init__()\n",
    "        head_size = embedding_dim // num_heads\n",
    "        self.ffwd = nn.Sequential(\n",
    "            nn.Linear(embedding_dim, 4*embedding_dim),\n",
    "            nn.ReLU(),\n",
    "            nn.Linear(4*embedding_dim, embedding_dim),\n",
    "            nn.Dropout(dropout_r),\n",
    "        )\n",
    "        self.attention = MultiHeadAttention(num_heads, head_size)\n",
    "        self.norm1 = nn.LayerNorm(embedding_dim)\n",
    "        self.norm2 = nn.LayerNorm(embedding_dim)\n",
    "\n",
    "    def forward(self, x):\n",
    "        x = x + self.attention(self.norm1(x))\n",
    "        x = x + self.ffwd(self.norm2(x))\n",
    "        return x"
   ]
  },
  {
   "cell_type": "code",
   "execution_count": 54,
   "metadata": {
    "id": "ed7jSkBgoYXw"
   },
   "outputs": [],
   "source": [
    "# character level transformer network model\n",
    "class LanguageModel(nn.Module):\n",
    "    def __init__(self):\n",
    "        super().__init__()\n",
    "\n",
    "        self.token_embedding_table = nn.Embedding(vocab_size, embedding_dim)\n",
    "        self.position_embedding_table = nn.Embedding(context_len, embedding_dim)\n",
    "        self.blocks = nn.Sequential(*[Block(embedding_dim, num_heads=num_heads) for _ in range(num_layers)])\n",
    "        self.ln_final = nn.LayerNorm(embedding_dim)\n",
    "        self.lm_head = nn.Linear(embedding_dim, vocab_size)\n",
    "        self.apply(self._init_weights)\n",
    "\n",
    "    # Transformers use std=0.2 in Gaussian weight initialization for better performance\n",
    "    def _init_weights(self, module):\n",
    "        if isinstance(module, nn.Linear):\n",
    "            torch.nn.init.normal_(module.weight, mean=0, std=0.02)\n",
    "            if module.bias is not None:\n",
    "                torch.nn.init.zeros_(module.bias)\n",
    "\n",
    "        elif isinstance(module, nn.Embedding):\n",
    "            torch.nn.init.normal_(module.weight, mean=0.0, std=0.02)\n",
    "\n",
    "    def forward(self, idx, targets=None):\n",
    "        B, T = idx.shape # same shape as targets\n",
    "\n",
    "        tok_emb = self.token_embedding_table(idx) # (B,T,C)\n",
    "        pos_emb = self.position_embedding_table(torch.arange(T, device=device)) # (T,C)\n",
    "        x = tok_emb + pos_emb # (B,T,C)\n",
    "\n",
    "        x = self.blocks(x) # (B,T,C)\n",
    "        x = self.ln_final(x) # (B,T,C)\n",
    "        logits = self.lm_head(x) # (B,T,vocab_size)\n",
    "\n",
    "        if targets is None:\n",
    "            loss = None\n",
    "        else:\n",
    "            B,T,C = logits.shape\n",
    "            logits = logits.view(B*T, C)\n",
    "            targets = targets.view(B*T)\n",
    "            loss = F.cross_entropy(logits, targets)\n",
    "\n",
    "        return logits, loss\n",
    "\n",
    "    def generate(self, idx, max_new_tokens):\n",
    "        # idx is total generated indices till now\n",
    "        for i in range(max_new_tokens):\n",
    "            idxb = idx[:, -context_len:]  # crop last context_length of tokens\n",
    "            logits, loss = self(idxb)  # get predictions and loss\n",
    "            logits = logits[:,-1,:] # reshape to (B,C)\n",
    "            probs = F.softmax(logits, dim=-1)\n",
    "            idx_next = torch.multinomial(probs, num_samples=1).to(device)\n",
    "\n",
    "            idx = torch.cat((idx, idx_next), dim=1)\n",
    "\n",
    "        return idx\n"
   ]
  },
  {
   "cell_type": "code",
   "execution_count": 55,
   "metadata": {
    "colab": {
     "base_uri": "https://localhost:8080/"
    },
    "id": "06Br2VVCoYXx",
    "outputId": "062fc53f-7f51-4045-b3f0-6094f156ddf3"
   },
   "outputs": [
    {
     "name": "stdout",
     "output_type": "stream",
     "text": [
      "10.788929 M parameters\n"
     ]
    }
   ],
   "source": [
    "model = LanguageModel()\n",
    "m = model.to(device)\n",
    "# number of parameters\n",
    "print(sum(p.numel() for p in m.parameters())/1e6, 'M parameters')"
   ]
  },
  {
   "cell_type": "code",
   "execution_count": 60,
   "metadata": {
    "id": "YmaI_3upoYXx"
   },
   "outputs": [],
   "source": [
    "eval_iters = 200\n",
    "@torch.no_grad()\n",
    "def estimate_loss():\n",
    "    out = {}\n",
    "    m.eval()\n",
    "    for split in ['train', 'val']:\n",
    "        losses = torch.zeros(eval_iters)\n",
    "        for k in range(eval_iters):\n",
    "            X, Y = get_batch(split)\n",
    "            logits, loss = m(X, Y)\n",
    "            losses[k] = loss.item()\n",
    "        out[split] = losses.mean()\n",
    "    m.train()\n",
    "    return out"
   ]
  },
  {
   "cell_type": "code",
   "execution_count": 57,
   "metadata": {
    "id": "XQYFnnu2oYXx"
   },
   "outputs": [],
   "source": [
    "# training loop\n",
    "learning_rate = 3e-4\n",
    "eval_interval = 500\n",
    "max_iters = 5000\n",
    "\n",
    "optim = torch.optim.AdamW(m.parameters(), lr=learning_rate)"
   ]
  },
  {
   "cell_type": "code",
   "execution_count": 58,
   "metadata": {
    "colab": {
     "base_uri": "https://localhost:8080/"
    },
    "id": "yIuB6qp6oYXx",
    "outputId": "12c7aff8-f991-414a-e712-247a8d5919de"
   },
   "outputs": [
    {
     "name": "stdout",
     "output_type": "stream",
     "text": [
      "step 0: train loss: 4.1941, val loss: 4.1906\n",
      "step 500: train loss: 1.7707, val loss: 1.9106\n",
      "step 1000: train loss: 1.4091, val loss: 1.6298\n",
      "step 1500: train loss: 1.2796, val loss: 1.5363\n",
      "step 2000: train loss: 1.1995, val loss: 1.5062\n",
      "step 2500: train loss: 1.1414, val loss: 1.4939\n",
      "step 3000: train loss: 1.0878, val loss: 1.4912\n",
      "step 3500: train loss: 1.0316, val loss: 1.4990\n",
      "step 4000: train loss: 0.9786, val loss: 1.5119\n",
      "step 4500: train loss: 0.9298, val loss: 1.5154\n",
      "step 4999: train loss: 0.8813, val loss: 1.5439\n"
     ]
    }
   ],
   "source": [
    "best_val_loss = float('inf')\n",
    "best_model_state = None\n",
    "\n",
    "for iter in range(max_iters):\n",
    "    if iter % eval_interval == 0 or iter == max_iters - 1:\n",
    "        losses = estimate_loss()\n",
    "        print(f\"step {iter}: train loss: {losses['train']:.4f}, val loss: {losses['val']:.4f}\")\n",
    "\n",
    "        # Check best val loss\n",
    "        val_loss = losses['val']\n",
    "        if val_loss < best_val_loss:\n",
    "            best_val_loss = val_loss\n",
    "            best_model_state = m.state_dict()\n",
    "\n",
    "    # Sample a batch from the training set\n",
    "    x, y = get_batch('train')\n",
    "\n",
    "    # Evaluate the loss\n",
    "    logits, loss = m(x, y)\n",
    "\n",
    "    optim.zero_grad(set_to_none=True)\n",
    "    loss.backward()\n",
    "    optim.step()\n",
    "\n",
    "# Save best and last parameters\n",
    "if best_model_state is not None:\n",
    "    torch.save(best_model_state, 'best.pth')\n",
    "torch.save(m.state_dict(), 'last.pth')"
   ]
  },
  {
   "cell_type": "code",
   "execution_count": 62,
   "metadata": {
    "colab": {
     "base_uri": "https://localhost:8080/"
    },
    "id": "YOQ4cP66oYXx",
    "outputId": "db9c736e-c646-4ca4-8fa3-57b81ca20274"
   },
   "outputs": [
    {
     "name": "stdout",
     "output_type": "stream",
     "text": [
      "\n",
      "RATCLIFF:\n",
      "Now my lord.\n",
      "\n",
      "QUEEN ELIZABETH:\n",
      "Straw with Richard not your mistress' sorrow.\n",
      "\n",
      "KING RICHARD III:\n",
      "Ratcliff!\n",
      "\n",
      "RICHARD:\n",
      "\n",
      "RATCLIFF:\n",
      "Art thou far'st, my sovereign, lord, my son:\n",
      "I am a winr that is sort frivord.\n",
      "That done me doth a spird, answer to me.\n",
      "\n",
      "KING RICHARD III:\n",
      "So then the cause of my tale in pastimage.\n",
      "\n",
      "VIRCHARD:\n",
      "Had I aid, and my lord that speaks too have\n",
      "You as a great dinning hate it on tomb.\n",
      "\n",
      "QUEEN ELIZABETH:\n",
      "Say not so horself the injuret: strifes\n",
      "Which but God but stand me h\n"
     ]
    }
   ],
   "source": [
    "# generate from the model\n",
    "context = torch.zeros((1, 1), dtype=torch.long, device=device)\n",
    "print(decode(m.generate(context, max_new_tokens=500)[0].tolist()))"
   ]
  }
 ],
 "metadata": {
  "accelerator": "GPU",
  "colab": {
   "gpuType": "T4",
   "provenance": []
  },
  "kernelspec": {
   "display_name": "Python 3",
   "name": "python3"
  },
  "language_info": {
   "codemirror_mode": {
    "name": "ipython",
    "version": 3
   },
   "file_extension": ".py",
   "mimetype": "text/x-python",
   "name": "python",
   "nbconvert_exporter": "python",
   "pygments_lexer": "ipython3",
   "version": "3.13.1"
  }
 },
 "nbformat": 4,
 "nbformat_minor": 0
}
